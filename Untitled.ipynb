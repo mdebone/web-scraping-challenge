{
 "cells": [
  {
   "cell_type": "code",
   "execution_count": 17,
   "id": "aa516a21",
   "metadata": {},
   "outputs": [],
   "source": [
    "from flask import Flask, render_template"
   ]
  },
  {
   "cell_type": "code",
   "execution_count": 18,
   "id": "0c746e93",
   "metadata": {},
   "outputs": [],
   "source": [
    "# Import our pymongo library, which lets us connect our Flask app to our Mongo database.\n",
    "import pymongo"
   ]
  },
  {
   "cell_type": "code",
   "execution_count": 19,
   "id": "3a28be7e",
   "metadata": {},
   "outputs": [],
   "source": [
    "# Create an instance of our Flask app.\n",
    "app = Flask(__name__)"
   ]
  },
  {
   "cell_type": "code",
   "execution_count": 20,
   "id": "3165f776",
   "metadata": {},
   "outputs": [],
   "source": [
    "# Create connection variable\n",
    "conn = 'mongodb://localhost:27017'"
   ]
  },
  {
   "cell_type": "code",
   "execution_count": 21,
   "id": "d9fe36d9",
   "metadata": {},
   "outputs": [],
   "source": [
    "# Pass connection to the pymongo instance.\n",
    "client = pymongo.MongoClient(conn)"
   ]
  },
  {
   "cell_type": "code",
   "execution_count": 22,
   "id": "c45b1c61",
   "metadata": {},
   "outputs": [],
   "source": [
    "# Connect to a database. Will create one if not already available.\n",
    "db = client.mars_app"
   ]
  },
  {
   "cell_type": "code",
   "execution_count": 23,
   "id": "8f4f64db",
   "metadata": {},
   "outputs": [],
   "source": [
    "# Drops collection if available to remove duplicates\n",
    "db.scrape_mars.drop()"
   ]
  },
  {
   "cell_type": "code",
   "execution_count": 24,
   "id": "624a20b8",
   "metadata": {},
   "outputs": [
    {
     "name": "stdout",
     "output_type": "stream",
     "text": [
      " * Serving Flask app '__main__' (lazy loading)\n",
      " * Environment: production\n",
      "\u001b[31m   WARNING: This is a development server. Do not use it in a production deployment.\u001b[0m\n",
      "\u001b[2m   Use a production WSGI server instead.\u001b[0m\n",
      " * Debug mode: on\n"
     ]
    },
    {
     "name": "stderr",
     "output_type": "stream",
     "text": [
      " * Restarting with stat\n"
     ]
    },
    {
     "ename": "SystemExit",
     "evalue": "1",
     "output_type": "error",
     "traceback": [
      "An exception has occurred, use %tb to see the full traceback.\n",
      "\u001b[1;31mSystemExit\u001b[0m\u001b[1;31m:\u001b[0m 1\n"
     ]
    }
   ],
   "source": [
    "db.scrape_mars.insert_many(\n",
    "    [\n",
    "        {\n",
    "            'news_date': 'December 20, 2021',\n",
    "            'news_title': \"Meet the People Behind NASA's Perseverance Rover\",\n",
    "            'news_blurb': \"These are the scientists and engineers who built NASA's next Mars rover and who will guide it to a safe landing in Jezero Crater. \"\n",
    "        },\n",
    "        {\n",
    "            'news_date': 'December 20, 2021',\n",
    "            'news_title': \"MOXIE Could Help Future Rockets Launch Off Mars\",\n",
    "            'news_blurb': \"NASA's Perseverance rover carries a device to convert Martian air into oxygen that, if produced on a larger scale, could be used not just for breathing, but also for fuel.\"\n",
    "        }\n",
    "    ]\n",
    ")\n",
    "\n",
    "# Set route\n",
    "@app.route('/')\n",
    "def index():\n",
    "    # Store the entire mars collection in a list\n",
    "    mars_news = list(db.scrape_mars.find())\n",
    "    print(mars_news)\n",
    "\n",
    "    # Return the template with the mars list passed in\n",
    "    return render_template('index.html', mars_news=mars_news)\n",
    "\n",
    "\n",
    "if __name__ == \"__main__\":\n",
    "    app.run(debug=True)"
   ]
  },
  {
   "cell_type": "code",
   "execution_count": null,
   "id": "7869493e",
   "metadata": {},
   "outputs": [],
   "source": []
  }
 ],
 "metadata": {
  "kernelspec": {
   "display_name": "Python 3",
   "language": "python",
   "name": "python3"
  },
  "language_info": {
   "codemirror_mode": {
    "name": "ipython",
    "version": 3
   },
   "file_extension": ".py",
   "mimetype": "text/x-python",
   "name": "python",
   "nbconvert_exporter": "python",
   "pygments_lexer": "ipython3",
   "version": "3.6.13"
  }
 },
 "nbformat": 4,
 "nbformat_minor": 5
}

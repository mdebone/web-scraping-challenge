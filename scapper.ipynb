{
 "cells": [
  {
   "cell_type": "code",
   "execution_count": 44,
   "id": "51ab1c3b",
   "metadata": {},
   "outputs": [],
   "source": [
    "# Dependencies\n",
    "from bs4 import BeautifulSoup as soup\n",
    "import requests\n",
    "import pymongo"
   ]
  },
  {
   "cell_type": "code",
   "execution_count": 45,
   "id": "e85f3dd7",
   "metadata": {},
   "outputs": [],
   "source": [
    "# Initialize PyMongo to work with MongoDBs\n",
    "conn = 'mongodb://localhost:27017'\n",
    "client = pymongo.MongoClient(conn)"
   ]
  },
  {
   "cell_type": "code",
   "execution_count": 46,
   "id": "7a6a703a",
   "metadata": {},
   "outputs": [],
   "source": [
    "# Define database and collection\n",
    "db = client.mars_db\n",
    "collection = db.mars"
   ]
  },
  {
   "cell_type": "code",
   "execution_count": 47,
   "id": "f0d67533",
   "metadata": {},
   "outputs": [],
   "source": [
    "# URL of page to be scraped\n",
    "mars_news_url = 'https://redplanetscience.com/'\n",
    "\n",
    "# Retrieve page with the requests module\n",
    "response = requests.get(mars_news_url)\n",
    "# Create BeautifulSoup object; parse with 'lxml'\n",
    "soup = BeautifulSoup(response.text, 'lxml')"
   ]
  },
  {
   "cell_type": "code",
   "execution_count": 48,
   "id": "21ebfc8e",
   "metadata": {},
   "outputs": [],
   "source": [
    "# retrieve the most recent news item\n",
    "news_item = soup.find_all('div', class_='list_text')\n",
    "\n",
    "for news in news_item:\n",
    "    # Error handling\n",
    "    try:\n",
    "        # Retrieve the most recent news item: title\n",
    "        news_title = soup.find('div', class_='content_title').text\n",
    "        # date\n",
    "        news_date = soup.find('div', class_='list_date').text\n",
    "        # blurb\n",
    "        news_blurb = soup.find('div', class_='article_teaser_body').text\n",
    "        \n",
    "        # Run only if title, price, and link are available\n",
    "        if (news_title and news_date and news_blurb):\n",
    "            # Print results\n",
    "            print(news_title)\n",
    "            print(news_date)\n",
    "            print('-------------')\n",
    "            print(news_blurb)\n",
    "            \n",
    "             # Dictionary to be inserted as a MongoDB document\n",
    "            news_post = {\n",
    "                'news_title': news_title,\n",
    "                'news_date': news_date,\n",
    "                'news_blurb': news_blurb\n",
    "            }\n",
    "            \n",
    "            collection.insert_one(news_post)\n",
    "\n",
    "    except Exception as e:\n",
    "        print(e)"
   ]
  },
  {
   "cell_type": "code",
   "execution_count": 49,
   "id": "95bed785",
   "metadata": {},
   "outputs": [],
   "source": [
    "# Display items in MongoDB collection\n",
    "news_stories = db.mars.find()\n",
    "\n",
    "for news_story in news_stories:\n",
    "    print(news_story)"
   ]
  },
  {
   "cell_type": "code",
   "execution_count": null,
   "id": "288d58cb",
   "metadata": {},
   "outputs": [],
   "source": []
  }
 ],
 "metadata": {
  "kernelspec": {
   "display_name": "Python 3",
   "language": "python",
   "name": "python3"
  },
  "language_info": {
   "codemirror_mode": {
    "name": "ipython",
    "version": 3
   },
   "file_extension": ".py",
   "mimetype": "text/x-python",
   "name": "python",
   "nbconvert_exporter": "python",
   "pygments_lexer": "ipython3",
   "version": "3.6.13"
  }
 },
 "nbformat": 4,
 "nbformat_minor": 5
}
